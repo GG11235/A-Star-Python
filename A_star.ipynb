{
 "cells": [
  {
   "cell_type": "code",
   "execution_count": 6,
   "metadata": {},
   "outputs": [
    {
     "name": "stdout",
     "output_type": "stream",
     "text": [
      "('3              ', '')\n"
     ]
    }
   ],
   "source": [
    "print(\"%%-%ds\" %15 %3, \"\")"
   ]
  },
  {
   "cell_type": "code",
   "execution_count": 1,
   "metadata": {},
   "outputs": [
    {
     "data": {
      "text/plain": [
       "{(3, 4): 5,\n",
       " (3, 5): 5,\n",
       " (4, 1): 5,\n",
       " (4, 2): 5,\n",
       " (4, 3): 5,\n",
       " (4, 4): 5,\n",
       " (4, 5): 5,\n",
       " (4, 6): 5,\n",
       " (4, 7): 5,\n",
       " (4, 8): 5,\n",
       " (5, 1): 5,\n",
       " (5, 2): 5,\n",
       " (5, 3): 5,\n",
       " (5, 4): 5,\n",
       " (5, 5): 5,\n",
       " (5, 6): 5,\n",
       " (5, 7): 5,\n",
       " (5, 8): 5,\n",
       " (6, 2): 5,\n",
       " (6, 3): 5,\n",
       " (6, 4): 5,\n",
       " (6, 5): 5,\n",
       " (6, 6): 5,\n",
       " (6, 7): 5,\n",
       " (7, 3): 5,\n",
       " (7, 4): 5,\n",
       " (7, 5): 5}"
      ]
     },
     "execution_count": 1,
     "metadata": {},
     "output_type": "execute_result"
    }
   ],
   "source": [
    "{loc: 5 for loc in [(3, 4), (3, 5), (4, 1), (4, 2),\n",
    "                    (4, 3), (4, 4), (4, 5), (4, 6),\n",
    "                    (4, 7), (4, 8), (5, 1), (5, 2),\n",
    "                    (5, 3), (5, 4), (5, 5), (5, 6),\n",
    "                    (5, 7), (5, 8), (6, 2), (6, 3),\n",
    "                    (6, 4), (6, 5), (6, 6), (6, 7),\n",
    "                    (7, 3), (7, 4), (7, 5)]}\n",
    "                    "
   ]
  },
  {
   "cell_type": "code",
   "execution_count": 11,
   "metadata": {},
   "outputs": [
    {
     "name": "stdout",
     "output_type": "stream",
     "text": [
      "[(2, 2), (4, 4)]\n"
     ]
    }
   ],
   "source": [
    "a = []\n",
    "b = [(2,2),(4,4)]\n",
    "a = a+b\n",
    "print(a)"
   ]
  },
  {
   "cell_type": "code",
   "execution_count": 10,
   "metadata": {},
   "outputs": [
    {
     "name": "stdout",
     "output_type": "stream",
     "text": [
      "[-3, -2, -1, 0, 1, 2, 3, 4]\n"
     ]
    }
   ],
   "source": [
    "print(range(-3,5))"
   ]
  }
 ],
 "metadata": {
  "interpreter": {
   "hash": "767d51c1340bd893661ea55ea3124f6de3c7a262a8b4abca0554b478b1e2ff90"
  },
  "kernelspec": {
   "display_name": "Python 2.7.17 64-bit",
   "language": "python",
   "name": "python3"
  },
  "language_info": {
   "codemirror_mode": {
    "name": "ipython",
    "version": 2
   },
   "file_extension": ".py",
   "mimetype": "text/x-python",
   "name": "python",
   "nbconvert_exporter": "python",
   "pygments_lexer": "ipython2",
   "version": "2.7.17"
  },
  "orig_nbformat": 4
 },
 "nbformat": 4,
 "nbformat_minor": 2
}
